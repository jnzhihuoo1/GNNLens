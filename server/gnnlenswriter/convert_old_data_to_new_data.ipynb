{
 "cells": [
  {
   "cell_type": "code",
   "execution_count": 1,
   "metadata": {},
   "outputs": [],
   "source": [
    "root_path = \"/data2/zhihua/github/GNNVis/server\"\n",
    "models_list = {\n",
    "    16:{\n",
    "        \"id\":16,\n",
    "        \"name\": \"Cora_ML_GCN\",\n",
    "        \"type\": \"GCN\",\n",
    "        \"graph_config\": {\n",
    "            \"norm_type\":\"SymNorm_tildeA\",\n",
    "            \"identity_features\":False\n",
    "        },\n",
    "        \"model_config\":{\n",
    "            \"args\":[2879,16,7,0.5],\n",
    "            \"kwargs\":{\n",
    "                \"bias\": True\n",
    "            }\n",
    "        },\n",
    "        \"path\": \"/models/gcn_cora_ml_state.pkt\",\n",
    "        \"available_explain_method\": [4]\n",
    "    },\n",
    "    17:{\n",
    "        \"id\":17,\n",
    "        \"name\": \"Cora_ML_MLP\",\n",
    "        \"type\": \"GCN\",\n",
    "        \"graph_config\": {\n",
    "            \"norm_type\":\"Identity_L\",\n",
    "            \"identity_features\":False\n",
    "        },\n",
    "        \"model_config\":{\n",
    "            \"args\":[2879,16,7,0.5],\n",
    "            \"kwargs\":{\n",
    "                \"bias\": True\n",
    "            }\n",
    "        },\n",
    "        \"path\": \"/models/mlp_cora_ml_state.pkt\",\n",
    "        \"available_explain_method\": [4]\n",
    "    },\n",
    "    18:{\n",
    "        \"id\":18,\n",
    "        \"name\": \"Cora_ML_GCN_Identity_features\",\n",
    "        \"type\": \"GCN\",\n",
    "        \"graph_config\": {\n",
    "            \"norm_type\":\"SymNorm_tildeA\",\n",
    "            \"identity_features\":True\n",
    "        },\n",
    "        \"model_config\":{\n",
    "            \"args\":[2810,16,7,0.5],\n",
    "            \"kwargs\":{\n",
    "                \"bias\": True\n",
    "            }\n",
    "        },\n",
    "        \"path\": \"/models/gcn_identity_features_cora_ml_state.pkt\",\n",
    "        \"available_explain_method\": [4]\n",
    "    },\n",
    "    \n",
    "}\n"
   ]
  },
  {
   "cell_type": "code",
   "execution_count": null,
   "metadata": {},
   "outputs": [],
   "source": []
  }
 ],
 "metadata": {
  "kernelspec": {
   "display_name": "Python 3 (ipykernel)",
   "language": "python",
   "name": "python3"
  },
  "language_info": {
   "codemirror_mode": {
    "name": "ipython",
    "version": 3
   },
   "file_extension": ".py",
   "mimetype": "text/x-python",
   "name": "python",
   "nbconvert_exporter": "python",
   "pygments_lexer": "ipython3",
   "version": "3.7.9"
  }
 },
 "nbformat": 4,
 "nbformat_minor": 4
}
